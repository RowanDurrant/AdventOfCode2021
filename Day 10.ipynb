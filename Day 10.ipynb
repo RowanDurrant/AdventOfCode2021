{
 "cells": [
  {
   "cell_type": "code",
   "execution_count": 1,
   "metadata": {},
   "outputs": [],
   "source": [
    "import pandas as pd"
   ]
  },
  {
   "cell_type": "code",
   "execution_count": 24,
   "metadata": {},
   "outputs": [],
   "source": [
    "df = pd.read_csv(\"day10data.txt\")"
   ]
  },
  {
   "cell_type": "code",
   "execution_count": 27,
   "metadata": {},
   "outputs": [],
   "source": [
    "illegalScores = 0\n",
    "corruptedLines = []\n",
    "for i in range(len(df)):\n",
    "    a = list(df.loc[i][\"input\"])\n",
    "    mostRecentOpen = []\n",
    "    for j in range(len(a)):\n",
    "        if a[j] == \"[\":\n",
    "            mostRecentOpen.append(\"[\")\n",
    "        elif a[j] == \"{\":\n",
    "            mostRecentOpen.append(\"{\")\n",
    "        elif a[j] == \"(\":\n",
    "            mostRecentOpen.append(\"(\")\n",
    "        elif a[j] == \"<\":\n",
    "            mostRecentOpen.append(\"<\")\n",
    "        elif a[j] == \"]\":\n",
    "            if mostRecentOpen[-1] != \"[\":\n",
    "                illegalScores += 57\n",
    "                corruptedLines.append(i)\n",
    "                break\n",
    "            else:\n",
    "                mostRecentOpen = mostRecentOpen[:-1]\n",
    "        elif a[j] == \"}\":\n",
    "            if mostRecentOpen[-1] != \"{\":\n",
    "                illegalScores += 1197\n",
    "                corruptedLines.append(i)\n",
    "                break\n",
    "            else:\n",
    "                mostRecentOpen = mostRecentOpen[:-1]\n",
    "        elif a[j] == \")\":\n",
    "            if mostRecentOpen[-1] != \"(\":\n",
    "                illegalScores += 3\n",
    "                corruptedLines.append(i)\n",
    "                break\n",
    "            else:\n",
    "                mostRecentOpen = mostRecentOpen[:-1]\n",
    "        else:\n",
    "            if mostRecentOpen[-1] != \"<\":\n",
    "                illegalScores += 25137\n",
    "                corruptedLines.append(i)\n",
    "                break\n",
    "            else:\n",
    "                mostRecentOpen = mostRecentOpen[:-1]\n",
    "\n"
   ]
  },
  {
   "cell_type": "code",
   "execution_count": 26,
   "metadata": {},
   "outputs": [
    {
     "data": {
      "text/plain": [
       "389589"
      ]
     },
     "execution_count": 26,
     "metadata": {},
     "output_type": "execute_result"
    }
   ],
   "source": [
    "illegalScores"
   ]
  },
  {
   "cell_type": "code",
   "execution_count": 29,
   "metadata": {},
   "outputs": [],
   "source": [
    "df2 = df.drop(df.index[corruptedLines])"
   ]
  },
  {
   "cell_type": "code",
   "execution_count": 35,
   "metadata": {},
   "outputs": [],
   "source": [
    "df2.reset_index(drop=True, inplace=True)"
   ]
  },
  {
   "cell_type": "code",
   "execution_count": 52,
   "metadata": {},
   "outputs": [],
   "source": [
    "autocompleteScores = [0] * len(df2)\n",
    "corruptedLines = []\n",
    "for i in range(len(df2)):\n",
    "    a = list(df2.loc[i][\"input\"])\n",
    "    mostRecentOpen = []\n",
    "    for j in range(len(a)):\n",
    "        if a[j] == \"[\":\n",
    "            mostRecentOpen.append(\"[\")\n",
    "        elif a[j] == \"{\":\n",
    "            mostRecentOpen.append(\"{\")\n",
    "        elif a[j] == \"(\":\n",
    "            mostRecentOpen.append(\"(\")\n",
    "        elif a[j] == \"<\":\n",
    "            mostRecentOpen.append(\"<\")\n",
    "        elif a[j] == \"]\":\n",
    "            mostRecentOpen = mostRecentOpen[:-1]\n",
    "        elif a[j] == \"}\":\n",
    "            mostRecentOpen = mostRecentOpen[:-1]\n",
    "        elif a[j] == \")\":\n",
    "            mostRecentOpen = mostRecentOpen[:-1]\n",
    "        else:\n",
    "            mostRecentOpen = mostRecentOpen[:-1]\n",
    "            \n",
    "    for k in range(len(mostRecentOpen)-1, -1, -1):\n",
    "        if mostRecentOpen[k] == \"[\":\n",
    "            autocompleteScores[i] = autocompleteScores[i]*5 + 2\n",
    "        elif mostRecentOpen[k] == \"{\":\n",
    "            autocompleteScores[i] = autocompleteScores[i]*5 + 3\n",
    "        elif mostRecentOpen[k] == \"(\":\n",
    "            autocompleteScores[i] = autocompleteScores[i]*5 + 1\n",
    "        else:\n",
    "            autocompleteScores[i] = autocompleteScores[i]*5 + 4\n",
    "        \n"
   ]
  },
  {
   "cell_type": "code",
   "execution_count": 53,
   "metadata": {},
   "outputs": [
    {
     "data": {
      "text/plain": [
       "1190420163"
      ]
     },
     "execution_count": 53,
     "metadata": {},
     "output_type": "execute_result"
    }
   ],
   "source": [
    "sortedList = sorted(autocompleteScores)\n",
    "middleIndex = int((len(sortedList) - 1)/2)\n",
    "sortedList[middleIndex]"
   ]
  }
 ],
 "metadata": {
  "kernelspec": {
   "display_name": "Python 3",
   "language": "python",
   "name": "python3"
  },
  "language_info": {
   "codemirror_mode": {
    "name": "ipython",
    "version": 3
   },
   "file_extension": ".py",
   "mimetype": "text/x-python",
   "name": "python",
   "nbconvert_exporter": "python",
   "pygments_lexer": "ipython3",
   "version": "3.7.6"
  }
 },
 "nbformat": 4,
 "nbformat_minor": 4
}
