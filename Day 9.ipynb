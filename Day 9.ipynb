{
 "cells": [
  {
   "cell_type": "code",
   "execution_count": 1,
   "metadata": {},
   "outputs": [],
   "source": [
    "import pandas as pd"
   ]
  },
  {
   "cell_type": "code",
   "execution_count": 2,
   "metadata": {},
   "outputs": [],
   "source": [
    "import numpy as np"
   ]
  },
  {
   "cell_type": "code",
   "execution_count": 3,
   "metadata": {},
   "outputs": [],
   "source": [
    "df = pd.read_csv(\"day9data.txt\")"
   ]
  },
  {
   "cell_type": "code",
   "execution_count": 4,
   "metadata": {},
   "outputs": [],
   "source": [
    "split = pd.DataFrame(columns = range(len(list(str(df.loc[1][\"X\"])))), index = range(len(df)))"
   ]
  },
  {
   "cell_type": "code",
   "execution_count": 5,
   "metadata": {},
   "outputs": [],
   "source": [
    "for i in range(len(df)):\n",
    "    a = df.loc[i][\"X\"]\n",
    "    splitted = list(str(a))\n",
    "    split.iloc[i] = splitted"
   ]
  },
  {
   "cell_type": "code",
   "execution_count": 6,
   "metadata": {},
   "outputs": [],
   "source": [
    "split = split.astype(int)"
   ]
  },
  {
   "cell_type": "code",
   "execution_count": 7,
   "metadata": {},
   "outputs": [],
   "source": [
    "sides = [11] * len(split)\n",
    "tops = [11] * (len(split.columns)+2)\n",
    "split.insert(loc = len(split.columns), column = len(split.columns), value = sides)\n",
    "split.insert(loc = 0, column = -1, value = sides)\n",
    "split.loc[len(split)] = tops\n",
    "split.loc[-1] = tops\n",
    "split.index = split.index + 1\n",
    "split = split.sort_index()"
   ]
  },
  {
   "cell_type": "code",
   "execution_count": 8,
   "metadata": {},
   "outputs": [],
   "source": [
    "lowPoints = []\n",
    "lowPointsX = []\n",
    "lowPointsY = []\n",
    "for i in range(1,len(split)-1):\n",
    "    for j in range(len(split.columns)-2):\n",
    "        if split.loc[i - 1][j] > split.loc[i][j] and split.loc[i + 1][j] > split.loc[i][j] and split.loc[i][j + 1] > split.loc[i][j] and split.loc[i][j - 1] > split.loc[i][j]:\n",
    "                    lowPoints.append(split.loc[i][j])\n",
    "                    lowPointsX.append(j)\n",
    "                    lowPointsY.append(i)"
   ]
  },
  {
   "cell_type": "code",
   "execution_count": 9,
   "metadata": {},
   "outputs": [
    {
     "data": {
      "text/plain": [
       "550"
      ]
     },
     "execution_count": 9,
     "metadata": {},
     "output_type": "execute_result"
    }
   ],
   "source": [
    "sum(lowPoints) + len(lowPoints)"
   ]
  },
  {
   "cell_type": "code",
   "execution_count": 227,
   "metadata": {},
   "outputs": [],
   "source": [
    "split2 = split\n"
   ]
  },
  {
   "cell_type": "code",
   "execution_count": 228,
   "metadata": {},
   "outputs": [],
   "source": [
    "basins = [1] * len(lowPoints)\n",
    "for k in range(len(lowPoints)):\n",
    "    split2.loc[lowPointsY[k]][lowPointsX[k]] = 12\n",
    "    peripherals = [split2.loc[lowPointsY[k] - 1][lowPointsX[k]], split2.loc[lowPointsY[k] + 1][lowPointsX[k]], split2.loc[lowPointsY[k]][lowPointsX[k] + 1], split2.loc[lowPointsY[k]][lowPointsX[k] - 1]]\n",
    "    peripheralsX = [lowPointsX[k], lowPointsX[k], lowPointsX[k]+1, lowPointsX[k]-1]\n",
    "    peripheralsY = [lowPointsY[k]-1, lowPointsY[k]+1, lowPointsY[k], lowPointsY[k]]\n",
    "    while len(peripherals) > 0:\n",
    "        peripherals2 = []\n",
    "        peripheralsX2 = []\n",
    "        peripheralsY2 = []\n",
    "        for l in range(len(peripherals)):\n",
    "            if peripherals[l] < 9:\n",
    "                split2.loc[peripheralsY[l]][peripheralsX[l]] = 10\n",
    "                peripherals2 = peripherals2 + [split2.loc[peripheralsY[l] - 1][peripheralsX[l]], split2.loc[peripheralsY[l] + 1][peripheralsX[l]], split2.loc[peripheralsY[l]][peripheralsX[l] + 1], split2.loc[peripheralsY[l]][peripheralsX[l] - 1]]\n",
    "                peripheralsX2 = peripheralsX2 + [peripheralsX[l], peripheralsX[l], peripheralsX[l]+1, peripheralsX[l]-1]\n",
    "                peripheralsY2 = peripheralsY2 + [peripheralsY[l]-1, peripheralsY[l]+1, peripheralsY[l], peripheralsY[l]]\n",
    "        peripherals = peripherals2\n",
    "        peripheralsX = peripheralsX2\n",
    "        peripheralsY = peripheralsY2\n",
    "        basins[k] = (split2[split2 == 10].sum().sum()) / 10"
   ]
  },
  {
   "cell_type": "code",
   "execution_count": 229,
   "metadata": {},
   "outputs": [],
   "source": [
    "basins2 = [0] * len(basins)\n",
    "basins2[0] = basins[0] + 1\n",
    "for i in range(1, len(basins2)):\n",
    "    basins2[i] = basins[i] + 1 - basins[i-1]"
   ]
  },
  {
   "cell_type": "code",
   "execution_count": 230,
   "metadata": {},
   "outputs": [],
   "source": [
    "basins2.sort()"
   ]
  },
  {
   "cell_type": "code",
   "execution_count": 231,
   "metadata": {},
   "outputs": [
    {
     "data": {
      "text/plain": [
       "[99.0, 102.0, 109.0]"
      ]
     },
     "execution_count": 231,
     "metadata": {},
     "output_type": "execute_result"
    }
   ],
   "source": [
    "basins2[k-2:k+1]"
   ]
  },
  {
   "cell_type": "code",
   "execution_count": 232,
   "metadata": {},
   "outputs": [
    {
     "data": {
      "text/plain": [
       "1100682"
      ]
     },
     "execution_count": 232,
     "metadata": {},
     "output_type": "execute_result"
    }
   ],
   "source": [
    "99 * 102 * 109"
   ]
  },
  {
   "cell_type": "code",
   "execution_count": null,
   "metadata": {},
   "outputs": [],
   "source": []
  }
 ],
 "metadata": {
  "@webio": {
   "lastCommId": null,
   "lastKernelId": null
  },
  "kernelspec": {
   "display_name": "Python 3",
   "language": "python",
   "name": "python3"
  },
  "language_info": {
   "codemirror_mode": {
    "name": "ipython",
    "version": 3
   },
   "file_extension": ".py",
   "mimetype": "text/x-python",
   "name": "python",
   "nbconvert_exporter": "python",
   "pygments_lexer": "ipython3",
   "version": "3.7.6"
  }
 },
 "nbformat": 4,
 "nbformat_minor": 4
}
