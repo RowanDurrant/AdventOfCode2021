{
 "cells": [
  {
   "cell_type": "code",
   "execution_count": 1,
   "metadata": {},
   "outputs": [],
   "source": [
    "import pandas as pd"
   ]
  },
  {
   "cell_type": "code",
   "execution_count": 2,
   "metadata": {},
   "outputs": [],
   "source": [
    "import string"
   ]
  },
  {
   "cell_type": "code",
   "execution_count": 3,
   "metadata": {},
   "outputs": [],
   "source": [
    "start = \"ONHOOSCKBSVHBNKFKSBK\""
   ]
  },
  {
   "cell_type": "code",
   "execution_count": 4,
   "metadata": {},
   "outputs": [],
   "source": [
    "df = pd.read_csv(\"day14data.txt\")"
   ]
  },
  {
   "cell_type": "code",
   "execution_count": 5,
   "metadata": {},
   "outputs": [],
   "source": [
    "split = pd.DataFrame(columns = [\"pattern\", \"insert\"], index = range(len(df)))"
   ]
  },
  {
   "cell_type": "code",
   "execution_count": 6,
   "metadata": {},
   "outputs": [],
   "source": [
    "for i in range(len(df)):\n",
    "    a = df.loc[i][\"replacements\"]\n",
    "    a = a.replace('->', ' ')\n",
    "    splitted = a.split()\n",
    "    split.iloc[i] = splitted"
   ]
  },
  {
   "cell_type": "code",
   "execution_count": 7,
   "metadata": {},
   "outputs": [],
   "source": [
    "replaceDict = dict(zip(split[\"pattern\"], split[\"insert\"]))"
   ]
  },
  {
   "cell_type": "code",
   "execution_count": 8,
   "metadata": {},
   "outputs": [],
   "source": [
    "for i in range(10):\n",
    "    insertPoints = []\n",
    "    toInsert = []\n",
    "    for j in range(len(start)-1):\n",
    "        if start[j:j+2] in replaceDict:\n",
    "            insertPoints.append(j+1)\n",
    "            toInsert.append(replaceDict[start[j:j+2]])\n",
    "    for k in range(len(insertPoints)-1,-1,-1):\n",
    "        start = start[:insertPoints[k]] + toInsert[k] + start[insertPoints[k]:]"
   ]
  },
  {
   "cell_type": "code",
   "execution_count": 9,
   "metadata": {},
   "outputs": [
    {
     "data": {
      "text/plain": [
       "Counter({'o': 2881,\n",
       "         'p': 2466,\n",
       "         'k': 2955,\n",
       "         'f': 2131,\n",
       "         'h': 2110,\n",
       "         'c': 2109,\n",
       "         'n': 1859,\n",
       "         's': 508,\n",
       "         'b': 1325,\n",
       "         'v': 1113})"
      ]
     },
     "execution_count": 9,
     "metadata": {},
     "output_type": "execute_result"
    }
   ],
   "source": [
    "from collections import Counter    \n",
    "counter = Counter(start.lower())\n",
    "counter"
   ]
  },
  {
   "cell_type": "code",
   "execution_count": 10,
   "metadata": {},
   "outputs": [
    {
     "data": {
      "text/plain": [
       "2447"
      ]
     },
     "execution_count": 10,
     "metadata": {},
     "output_type": "execute_result"
    }
   ],
   "source": [
    "2955 - 508"
   ]
  },
  {
   "cell_type": "code",
   "execution_count": 11,
   "metadata": {},
   "outputs": [],
   "source": [
    "start = \"ONHOOSCKBSVHBNKFKSBK\""
   ]
  },
  {
   "cell_type": "code",
   "execution_count": 12,
   "metadata": {},
   "outputs": [],
   "source": [
    "countDict = dict(zip(split[\"pattern\"], [0]*len(split)))\n",
    "for j in range(len(start)-1):\n",
    "        if start[j:j+2] in replaceDict:\n",
    "            countDict[start[j:j+2]] += 1\n",
    "for i in range(40):\n",
    "    countDict2 = dict(zip(split[\"pattern\"], [0]*len(split)))\n",
    "    for k in countDict:\n",
    "        part1 = k[0] + replaceDict[k]\n",
    "        part2 = replaceDict[k] + k[1]\n",
    "        countDict2[part1] += countDict[k]\n",
    "        countDict2[part2] += countDict[k]\n",
    "    countDict = countDict2"
   ]
  },
  {
   "cell_type": "code",
   "execution_count": 13,
   "metadata": {},
   "outputs": [],
   "source": [
    "countLetters = dict(zip(list(string.ascii_uppercase), [0]*26))\n",
    "for l in countDict:\n",
    "    countLetters[l[0]] += countDict[l]\n",
    "    countLetters[l[1]] += countDict[l]"
   ]
  },
  {
   "cell_type": "code",
   "execution_count": 14,
   "metadata": {},
   "outputs": [],
   "source": [
    "for k in countLetters.copy():\n",
    "    if countLetters[k] == 0:\n",
    "        del countLetters[k]"
   ]
  },
  {
   "cell_type": "code",
   "execution_count": 15,
   "metadata": {},
   "outputs": [
    {
     "data": {
      "text/plain": [
       "3018019237563"
      ]
     },
     "execution_count": 15,
     "metadata": {},
     "output_type": "execute_result"
    }
   ],
   "source": [
    "round(max(countLetters.values())/2) - round(min(countLetters.values())/2)"
   ]
  }
 ],
 "metadata": {
  "@webio": {
   "lastCommId": null,
   "lastKernelId": null
  },
  "kernelspec": {
   "display_name": "Python 3",
   "language": "python",
   "name": "python3"
  },
  "language_info": {
   "codemirror_mode": {
    "name": "ipython",
    "version": 3
   },
   "file_extension": ".py",
   "mimetype": "text/x-python",
   "name": "python",
   "nbconvert_exporter": "python",
   "pygments_lexer": "ipython3",
   "version": "3.7.6"
  }
 },
 "nbformat": 4,
 "nbformat_minor": 4
}
