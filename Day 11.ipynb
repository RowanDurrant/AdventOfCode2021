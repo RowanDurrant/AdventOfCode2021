{
 "cells": [
  {
   "cell_type": "code",
   "execution_count": 1,
   "metadata": {},
   "outputs": [],
   "source": [
    "import pandas as pd"
   ]
  },
  {
   "cell_type": "code",
   "execution_count": 111,
   "metadata": {},
   "outputs": [],
   "source": [
    "df = pd.read_csv(\"day11data.txt\")"
   ]
  },
  {
   "cell_type": "code",
   "execution_count": 51,
   "metadata": {},
   "outputs": [],
   "source": [
    "df = pd.read_csv(\"day11test.txt\")"
   ]
  },
  {
   "cell_type": "code",
   "execution_count": 146,
   "metadata": {},
   "outputs": [],
   "source": [
    "split = pd.DataFrame(columns = range(len(list(str(df.loc[1][\"octopi\"])))), index = range(len(df)))"
   ]
  },
  {
   "cell_type": "code",
   "execution_count": 147,
   "metadata": {},
   "outputs": [],
   "source": [
    "for i in range(len(df)):\n",
    "    split.iloc[i] = list(str(df.loc[i][\"octopi\"]))"
   ]
  },
  {
   "cell_type": "code",
   "execution_count": 148,
   "metadata": {},
   "outputs": [],
   "source": [
    "split = split.astype(int)"
   ]
  },
  {
   "cell_type": "code",
   "execution_count": 149,
   "metadata": {},
   "outputs": [],
   "source": [
    "sides = [-10000] * len(split)\n",
    "tops = [-10000] * (len(split.columns)+2)\n",
    "split.insert(loc = len(split.columns), column = len(split.columns), value = sides)\n",
    "split.insert(loc = 0, column = -1, value = sides)\n",
    "split.loc[len(split)] = tops\n",
    "split.loc[-1] = tops\n",
    "split.index = split.index + 1\n",
    "split = split.sort_index()"
   ]
  },
  {
   "cell_type": "code",
   "execution_count": 150,
   "metadata": {},
   "outputs": [],
   "source": [
    "def octopuses(split):\n",
    "    for j in range(len(split)-2):\n",
    "        for k in range(1,len(split)-1):\n",
    "            if split.loc[k][j] > 9 and split.loc[k][j] < 100:\n",
    "                split.loc[k][j] = 100\n",
    "                split.loc[k][j+1] += 1\n",
    "                split.loc[k][j-1] += 1\n",
    "                split.loc[k+1][j+1] += 1\n",
    "                split.loc[k-1][j+1] += 1\n",
    "                split.loc[k+1][j] += 1\n",
    "                split.loc[k-1][j] += 1\n",
    "                split.loc[k+1][j-1] += 1\n",
    "                split.loc[k-1][j-1] += 1\n",
    "                return split\n",
    "    return split"
   ]
  },
  {
   "cell_type": "code",
   "execution_count": 144,
   "metadata": {},
   "outputs": [],
   "source": [
    "flashes = 0\n",
    "for t in range(100):\n",
    "    split += 1\n",
    "    while split[(split>9) & (split < 100)].count().sum() > 0:\n",
    "        split = octopuses(split)\n",
    "        \n",
    "    split[split > 9] = 0\n",
    "    flashes += split[split==0].count().sum()\n"
   ]
  },
  {
   "cell_type": "code",
   "execution_count": 145,
   "metadata": {},
   "outputs": [
    {
     "data": {
      "text/plain": [
       "1625"
      ]
     },
     "execution_count": 145,
     "metadata": {},
     "output_type": "execute_result"
    }
   ],
   "source": [
    "flashes"
   ]
  },
  {
   "cell_type": "code",
   "execution_count": null,
   "metadata": {},
   "outputs": [],
   "source": [
    "#Part 2 - reset \"split\" df"
   ]
  },
  {
   "cell_type": "code",
   "execution_count": 151,
   "metadata": {},
   "outputs": [],
   "source": [
    "t = 0\n",
    "while split[split==0].count().sum() < 100:\n",
    "    split += 1\n",
    "    while split[(split>9) & (split < 100)].count().sum() > 0:\n",
    "        split = octopuses(split)\n",
    "        \n",
    "    split[split > 9] = 0\n",
    "    t += 1"
   ]
  },
  {
   "cell_type": "code",
   "execution_count": 152,
   "metadata": {},
   "outputs": [
    {
     "data": {
      "text/plain": [
       "244"
      ]
     },
     "execution_count": 152,
     "metadata": {},
     "output_type": "execute_result"
    }
   ],
   "source": [
    "t"
   ]
  },
  {
   "cell_type": "code",
   "execution_count": null,
   "metadata": {},
   "outputs": [],
   "source": []
  }
 ],
 "metadata": {
  "kernelspec": {
   "display_name": "Python 3",
   "language": "python",
   "name": "python3"
  },
  "language_info": {
   "codemirror_mode": {
    "name": "ipython",
    "version": 3
   },
   "file_extension": ".py",
   "mimetype": "text/x-python",
   "name": "python",
   "nbconvert_exporter": "python",
   "pygments_lexer": "ipython3",
   "version": "3.7.6"
  }
 },
 "nbformat": 4,
 "nbformat_minor": 4
}
