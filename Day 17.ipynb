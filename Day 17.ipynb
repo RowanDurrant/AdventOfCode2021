{
 "cells": [
  {
   "cell_type": "code",
   "execution_count": 1,
   "metadata": {},
   "outputs": [],
   "source": [
    "x1=241\n",
    "x2=273\n",
    "y1=-97\n",
    "y2=-63"
   ]
  },
  {
   "cell_type": "code",
   "execution_count": 4,
   "metadata": {},
   "outputs": [],
   "source": [
    "def velocityChange(x, y):\n",
    "    y = y - 1\n",
    "    if x > 0:\n",
    "        x = x - 1\n",
    "    elif x < 0:\n",
    "        x = x + 1\n",
    "    return([x, y])"
   ]
  },
  {
   "cell_type": "code",
   "execution_count": 17,
   "metadata": {},
   "outputs": [],
   "source": [
    "MaxHeight = 0\n",
    "velocitiesX = range(0,100)\n",
    "velocitiesY = range(0,100)\n",
    "for i in velocitiesX:\n",
    "    for j in velocitiesY:\n",
    "        position = [[0,0]]\n",
    "        velocity = [i,j]\n",
    "        for t in range(0,200):\n",
    "            newPosX = position[-1][0] + velocity[0]\n",
    "            newPosY = position[-1][1] + velocity[1]\n",
    "            position.append([newPosX, newPosY])\n",
    "            velocity = velocityChange(velocity[0], velocity[1])\n",
    "            if newPosX >= x1 and newPosX <= x2 and newPosY >=y1 and newPosY <= y2:\n",
    "                maxHeightNew = max(position, key=lambda x:x[1])[1]\n",
    "                if maxHeightNew > MaxHeight:\n",
    "                    MaxHeight = maxHeightNew"
   ]
  },
  {
   "cell_type": "code",
   "execution_count": 18,
   "metadata": {},
   "outputs": [
    {
     "data": {
      "text/plain": [
       "4656"
      ]
     },
     "execution_count": 18,
     "metadata": {},
     "output_type": "execute_result"
    }
   ],
   "source": [
    "MaxHeight"
   ]
  },
  {
   "cell_type": "code",
   "execution_count": 27,
   "metadata": {},
   "outputs": [],
   "source": [
    "MaxHeight = 0\n",
    "velocitiesX = range(0,500)\n",
    "velocitiesY = range(-500,500)\n",
    "targetVelo = []\n",
    "for i in velocitiesX:\n",
    "    for j in velocitiesY:\n",
    "        position = [[0,0]]\n",
    "        velocity = [i,j]\n",
    "        for t in range(0,400):\n",
    "            newPosX = position[-1][0] + velocity[0]\n",
    "            newPosY = position[-1][1] + velocity[1]\n",
    "            position.append([newPosX, newPosY])\n",
    "            velocity = velocityChange(velocity[0], velocity[1])\n",
    "            if newPosX >= x1 and newPosX <= x2 and newPosY >=y1 and newPosY <= y2:\n",
    "                targetVelo.append([i,j])\n",
    "                break"
   ]
  },
  {
   "cell_type": "code",
   "execution_count": 28,
   "metadata": {},
   "outputs": [
    {
     "data": {
      "text/plain": [
       "1908"
      ]
     },
     "execution_count": 28,
     "metadata": {},
     "output_type": "execute_result"
    }
   ],
   "source": [
    "len(targetVelo)"
   ]
  },
  {
   "cell_type": "code",
   "execution_count": null,
   "metadata": {},
   "outputs": [],
   "source": [
    "#bruteforce-y af but it worked lol"
   ]
  }
 ],
 "metadata": {
  "kernelspec": {
   "display_name": "Python 3",
   "language": "python",
   "name": "python3"
  },
  "language_info": {
   "codemirror_mode": {
    "name": "ipython",
    "version": 3
   },
   "file_extension": ".py",
   "mimetype": "text/x-python",
   "name": "python",
   "nbconvert_exporter": "python",
   "pygments_lexer": "ipython3",
   "version": "3.7.6"
  }
 },
 "nbformat": 4,
 "nbformat_minor": 4
}
