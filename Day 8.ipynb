{
 "cells": [
  {
   "cell_type": "code",
   "execution_count": 1,
   "metadata": {},
   "outputs": [],
   "source": [
    "import pandas as pd"
   ]
  },
  {
   "cell_type": "code",
   "execution_count": 3,
   "metadata": {},
   "outputs": [],
   "source": [
    "data = pd.read_csv(\"day8data.txt\")"
   ]
  },
  {
   "cell_type": "code",
   "execution_count": 4,
   "metadata": {},
   "outputs": [],
   "source": [
    "split = pd.DataFrame(columns = range(2), index = range(len(data)))"
   ]
  },
  {
   "cell_type": "code",
   "execution_count": 8,
   "metadata": {},
   "outputs": [],
   "source": [
    "for i in range(len(data)):\n",
    "    a = data.loc[i][\"signal\"]\n",
    "    splitted = a.split(\"|\")\n",
    "    split.iloc[i] = splitted"
   ]
  },
  {
   "cell_type": "code",
   "execution_count": 11,
   "metadata": {},
   "outputs": [],
   "source": [
    "counts = [0,0,0,0,0,0,0,0,0,0]\n",
    "for j in range(len(split)):\n",
    "    outputs = split.loc[j][1].split()\n",
    "    for k in range(len(outputs)):\n",
    "        counts[len(outputs[k])] += 1"
   ]
  },
  {
   "cell_type": "code",
   "execution_count": 13,
   "metadata": {},
   "outputs": [
    {
     "data": {
      "text/plain": [
       "479"
      ]
     },
     "execution_count": 13,
     "metadata": {},
     "output_type": "execute_result"
    }
   ],
   "source": [
    "counts[2] + counts[4] + counts[3] + counts[7]"
   ]
  },
  {
   "cell_type": "code",
   "execution_count": 14,
   "metadata": {},
   "outputs": [],
   "source": [
    "import numpy as np"
   ]
  },
  {
   "cell_type": "code",
   "execution_count": 26,
   "metadata": {},
   "outputs": [],
   "source": [
    "decoded = [0] * len(split)\n",
    "for j in range(len(split)):\n",
    "    outputs = split.loc[j][0].split()\n",
    "    for k in range(len(outputs)):\n",
    "        charLength = len(outputs[k])\n",
    "        if charLength == 2:\n",
    "            poss1 = list(outputs[k])\n",
    "        elif charLength == 4:\n",
    "            poss4 = list(outputs[k])\n",
    "        elif charLength == 3:\n",
    "            poss7 = list(outputs[k])\n",
    "        elif charLength == 7:\n",
    "            poss8 = list(outputs[k])\n",
    "    a = np.setdiff1d(poss7, poss1)\n",
    "    for l in range(len(outputs)):\n",
    "        if len(outputs[l]) == 6:\n",
    "            char6 = list(outputs[l])\n",
    "            diffs7 = np.setdiff1d(poss7, char6)\n",
    "            diffs8 = np.setdiff1d(poss8, char6)\n",
    "            if len(diffs7) == 1:\n",
    "                c = diffs7\n",
    "                f = np.setdiff1d(poss1, diffs7)\n",
    "                poss6 = char6\n",
    "            elif len(diffs8) ==1:\n",
    "                diffs4 = np.setdiff1d(poss4, char6)\n",
    "                if len(diffs4) == 1:\n",
    "                    d = diffs8\n",
    "                    poss0 = char6\n",
    "                else:\n",
    "                    poss9 = char6\n",
    "    for m in range(len(outputs)):         \n",
    "        if len(outputs[m]) == 5:\n",
    "            char5 = list(outputs[m])\n",
    "            diffs5 = np.setdiff1d(poss6, char5)\n",
    "            diffs3 = np.setdiff1d(poss9, char5)\n",
    "            if len(diffs5) == 1:\n",
    "                e = diffs5\n",
    "                poss5 = char5\n",
    "            elif len(diffs3) == 1:\n",
    "                b = diffs3\n",
    "                poss3 = char5\n",
    "            else:\n",
    "                poss2 = char5\n",
    "    numbers = split.loc[j][1].split()\n",
    "    decode = [0,0,0,0]\n",
    "    for n in range(len(numbers)):\n",
    "        if sorted(numbers[n]) == sorted(poss0):\n",
    "            decode[n] = 0\n",
    "        elif sorted(numbers[n]) == sorted(poss1):\n",
    "            decode[n] = 1\n",
    "        elif sorted(numbers[n]) == sorted(poss2):\n",
    "            decode[n] = 2\n",
    "        elif sorted(numbers[n]) == sorted(poss3):\n",
    "            decode[n] = 3\n",
    "        elif sorted(numbers[n]) == sorted(poss4):\n",
    "            decode[n] = 4\n",
    "        elif sorted(numbers[n]) == sorted(poss5):\n",
    "            decode[n] = 5\n",
    "        elif sorted(numbers[n]) == sorted(poss6):\n",
    "            decode[n] = 6\n",
    "        elif sorted(numbers[n]) == sorted(poss7):\n",
    "            decode[n] = 7\n",
    "        elif sorted(numbers[n]) == sorted(poss8):\n",
    "            decode[n] = 8\n",
    "        elif sorted(numbers[n]) == sorted(poss9):\n",
    "            decode[n] = 9\n",
    "    decoded[j] = (decode[0]*1000) + (decode[1]*100) + (decode[2]*10) + decode[3]\n",
    "            \n",
    "                        "
   ]
  },
  {
   "cell_type": "code",
   "execution_count": 28,
   "metadata": {},
   "outputs": [
    {
     "data": {
      "text/plain": [
       "1041746"
      ]
     },
     "execution_count": 28,
     "metadata": {},
     "output_type": "execute_result"
    }
   ],
   "source": [
    "sum(decoded)"
   ]
  }
 ],
 "metadata": {
  "kernelspec": {
   "display_name": "Python 3",
   "language": "python",
   "name": "python3"
  },
  "language_info": {
   "codemirror_mode": {
    "name": "ipython",
    "version": 3
   },
   "file_extension": ".py",
   "mimetype": "text/x-python",
   "name": "python",
   "nbconvert_exporter": "python",
   "pygments_lexer": "ipython3",
   "version": "3.7.6"
  }
 },
 "nbformat": 4,
 "nbformat_minor": 4
}
