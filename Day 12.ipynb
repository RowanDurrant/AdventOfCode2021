{
 "cells": [
  {
   "cell_type": "code",
   "execution_count": 5,
   "metadata": {},
   "outputs": [],
   "source": [
    "import pandas as pd"
   ]
  },
  {
   "cell_type": "code",
   "execution_count": 6,
   "metadata": {},
   "outputs": [],
   "source": [
    "df = pd.read_csv(\"day12data.csv\")"
   ]
  },
  {
   "cell_type": "code",
   "execution_count": 78,
   "metadata": {},
   "outputs": [],
   "source": [
    "nodes = []\n",
    "for col in df:\n",
    "    nodes = nodes + df[col].unique().tolist()"
   ]
  },
  {
   "cell_type": "code",
   "execution_count": 81,
   "metadata": {},
   "outputs": [],
   "source": [
    "def findConnections(nodes, df):\n",
    "    masterList = []\n",
    "    for j in range(len(nodes)):\n",
    "        subList = []\n",
    "        for i in range(len(df)):\n",
    "            if df.loc[i][\"to\"] == nodes[j]:\n",
    "                subList.append(df.loc[i][\"from\"])    \n",
    "            elif df.loc[i][\"from\"] == nodes[j]:\n",
    "                subList.append(df.loc[i][\"to\"])\n",
    "        masterList.append(subList)\n",
    "    connectionDict = dict(zip(nodes, masterList))\n",
    "    return connectionDict"
   ]
  },
  {
   "cell_type": "code",
   "execution_count": 82,
   "metadata": {},
   "outputs": [],
   "source": [
    "connects = findConnections(nodes, df)"
   ]
  },
  {
   "cell_type": "code",
   "execution_count": 110,
   "metadata": {},
   "outputs": [
    {
     "name": "stdout",
     "output_type": "stream",
     "text": [
      "4378\n"
     ]
    }
   ],
   "source": [
    "#this part taken from u/bacontime bc i was too brain empty this morning and needed Big Help\n",
    "#https://www.reddit.com/r/adventofcode/comments/rehj2r/comment/ho8d9ym/?utm_source=share&utm_medium=web2x&context=3\n",
    "\n",
    "paths = [[\"start\"]]\n",
    "completePaths = []\n",
    "while len(paths) > 0:\n",
    "    path = paths.pop()\n",
    "    finalCave = path[-1]\n",
    "    neighbours = connects[finalCave]\n",
    "    for j in neighbours:\n",
    "        if j == \"end\":\n",
    "            completePaths.append(path + [j])  \n",
    "        elif (j.islower() == False) or (j not in path):\n",
    "            paths.append(path+[j])\n",
    "            \n",
    "print(len(completePaths))"
   ]
  },
  {
   "cell_type": "code",
   "execution_count": 173,
   "metadata": {},
   "outputs": [
    {
     "name": "stdout",
     "output_type": "stream",
     "text": [
      "133621\n"
     ]
    }
   ],
   "source": [
    "#part two - made these changes myself\n",
    "paths = [[\"start\"]]\n",
    "completePaths = []\n",
    "while len(paths) > 0:\n",
    "    path = paths.pop()\n",
    "    finalCave = path[-1]\n",
    "    neighbours = connects[finalCave]\n",
    "    for j in neighbours:\n",
    "        if j == \"end\":\n",
    "            completePaths.append(path + [j])\n",
    "        elif j == \"start\":\n",
    "            continue\n",
    "        elif (j.islower() == False) or (j not in path):\n",
    "            paths.append(path+[j])\n",
    "        else:\n",
    "            lowercases = []\n",
    "            for i in path:\n",
    "                if i.islower():\n",
    "                    lowercases.append(i)\n",
    "                else:\n",
    "                    continue\n",
    "            if len(set(lowercases)) == len(lowercases):\n",
    "                paths.append(path+[j])\n",
    "            else:\n",
    "                continue\n",
    "            \n",
    "print(len(completePaths))"
   ]
  },
  {
   "cell_type": "code",
   "execution_count": null,
   "metadata": {},
   "outputs": [],
   "source": [
    "#definitely the hardest one so far for me and the first time I had to use someone else's answer\n",
    "#learned a lot from it though\n",
    "#especially using dictionaries"
   ]
  }
 ],
 "metadata": {
  "kernelspec": {
   "display_name": "Python 3",
   "language": "python",
   "name": "python3"
  },
  "language_info": {
   "codemirror_mode": {
    "name": "ipython",
    "version": 3
   },
   "file_extension": ".py",
   "mimetype": "text/x-python",
   "name": "python",
   "nbconvert_exporter": "python",
   "pygments_lexer": "ipython3",
   "version": "3.7.6"
  }
 },
 "nbformat": 4,
 "nbformat_minor": 4
}
